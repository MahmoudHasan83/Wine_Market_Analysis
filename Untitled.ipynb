{
 "cells": [
  {
   "cell_type": "code",
   "execution_count": 4,
   "id": "48a6c0ad",
   "metadata": {},
   "outputs": [],
   "source": [
    "from flask_sqlalchemy import SQLAlchemy"
   ]
  },
  {
   "cell_type": "code",
   "execution_count": 5,
   "id": "2b11bdd2",
   "metadata": {},
   "outputs": [],
   "source": [
    "import sqlalchemy"
   ]
  },
  {
   "cell_type": "code",
   "execution_count": 8,
   "id": "64c2f7a3",
   "metadata": {},
   "outputs": [
    {
     "data": {
      "text/plain": [
       "Engine(sqlite:///vivino.db)"
      ]
     },
     "execution_count": 8,
     "metadata": {},
     "output_type": "execute_result"
    }
   ],
   "source": [
    "sqlalchemy.create_engine('sqlite:///vivino.db')"
   ]
  },
  {
   "cell_type": "code",
   "execution_count": 12,
   "id": "e1cc85b0",
   "metadata": {},
   "outputs": [],
   "source": [
    "%load_ext sql"
   ]
  },
  {
   "cell_type": "code",
   "execution_count": 13,
   "id": "11e535cb",
   "metadata": {},
   "outputs": [],
   "source": [
    "%sql sqlite:///vivino.db"
   ]
  },
  {
   "cell_type": "code",
   "execution_count": 16,
   "id": "d62409f3",
   "metadata": {},
   "outputs": [
    {
     "name": "stdout",
     "output_type": "stream",
     "text": [
      " * sqlite:///vivino.db\n",
      "Done.\n"
     ]
    },
    {
     "data": {
      "text/html": [
       "<table>\n",
       "    <thead>\n",
       "        <tr>\n",
       "            <th>type</th>\n",
       "            <th>name</th>\n",
       "            <th>tbl_name</th>\n",
       "            <th>rootpage</th>\n",
       "            <th>sql</th>\n",
       "        </tr>\n",
       "    </thead>\n",
       "    <tbody>\n",
       "        <tr>\n",
       "            <td>table</td>\n",
       "            <td>countries</td>\n",
       "            <td>countries</td>\n",
       "            <td>2</td>\n",
       "            <td>CREATE TABLE countries (<br>\tcode VARCHAR NOT NULL, <br>\tname VARCHAR, <br>\tregions_count INTEGER, <br>\tusers_count INTEGER, <br>\twines_count INTEGER, <br>\twineries_count INTEGER, <br>\tPRIMARY KEY (code)<br>)</td>\n",
       "        </tr>\n",
       "        <tr>\n",
       "            <td>index</td>\n",
       "            <td>sqlite_autoindex_countries_1</td>\n",
       "            <td>countries</td>\n",
       "            <td>3</td>\n",
       "            <td>None</td>\n",
       "        </tr>\n",
       "        <tr>\n",
       "            <td>table</td>\n",
       "            <td>grapes</td>\n",
       "            <td>grapes</td>\n",
       "            <td>4</td>\n",
       "            <td>CREATE TABLE grapes (<br>\tid INTEGER NOT NULL, <br>\tname VARCHAR, <br>\tPRIMARY KEY (id)<br>)</td>\n",
       "        </tr>\n",
       "        <tr>\n",
       "            <td>table</td>\n",
       "            <td>wineries</td>\n",
       "            <td>wineries</td>\n",
       "            <td>5</td>\n",
       "            <td>CREATE TABLE wineries (<br>\tid INTEGER NOT NULL, <br>\tname VARCHAR, <br>\tPRIMARY KEY (id)<br>)</td>\n",
       "        </tr>\n",
       "        <tr>\n",
       "            <td>table</td>\n",
       "            <td>flavor_groups</td>\n",
       "            <td>flavor_groups</td>\n",
       "            <td>6</td>\n",
       "            <td>CREATE TABLE flavor_groups (<br>\tname VARCHAR NOT NULL, <br>\tPRIMARY KEY (name)<br>)</td>\n",
       "        </tr>\n",
       "        <tr>\n",
       "            <td>index</td>\n",
       "            <td>sqlite_autoindex_flavor_groups_1</td>\n",
       "            <td>flavor_groups</td>\n",
       "            <td>7</td>\n",
       "            <td>None</td>\n",
       "        </tr>\n",
       "        <tr>\n",
       "            <td>table</td>\n",
       "            <td>keywords</td>\n",
       "            <td>keywords</td>\n",
       "            <td>8</td>\n",
       "            <td>CREATE TABLE keywords (<br>\tid INTEGER NOT NULL, <br>\tname VARCHAR, <br>\tPRIMARY KEY (id)<br>)</td>\n",
       "        </tr>\n",
       "        <tr>\n",
       "            <td>table</td>\n",
       "            <td>regions</td>\n",
       "            <td>regions</td>\n",
       "            <td>9</td>\n",
       "            <td>CREATE TABLE regions (<br>\tid INTEGER NOT NULL, <br>\tname VARCHAR, <br>\tcountry_code VARCHAR, <br>\tPRIMARY KEY (id), <br>\tFOREIGN KEY(country_code) REFERENCES countries (code)<br>)</td>\n",
       "        </tr>\n",
       "        <tr>\n",
       "            <td>table</td>\n",
       "            <td>most_used_grapes_per_country</td>\n",
       "            <td>most_used_grapes_per_country</td>\n",
       "            <td>10</td>\n",
       "            <td>CREATE TABLE most_used_grapes_per_country (<br>\tid INTEGER NOT NULL, <br>\tcountry_code VARCHAR, <br>\tgrape_id INTEGER, <br>\twines_count INTEGER, <br>\tPRIMARY KEY (id), <br>\tFOREIGN KEY(country_code) REFERENCES countries (code), <br>\tFOREIGN KEY(grape_id) REFERENCES grapes (id)<br>)</td>\n",
       "        </tr>\n",
       "        <tr>\n",
       "            <td>table</td>\n",
       "            <td>toplists</td>\n",
       "            <td>toplists</td>\n",
       "            <td>11</td>\n",
       "            <td>CREATE TABLE toplists (<br>\tid INTEGER NOT NULL, <br>\tname VARCHAR(255) NOT NULL, <br>\tcountry_code VARCHAR, <br>\tPRIMARY KEY (id), <br>\tFOREIGN KEY(country_code) REFERENCES countries (code)<br>)</td>\n",
       "        </tr>\n",
       "        <tr>\n",
       "            <td>table</td>\n",
       "            <td>wines</td>\n",
       "            <td>wines</td>\n",
       "            <td>12</td>\n",
       "            <td>CREATE TABLE wines (<br>\tid INTEGER NOT NULL, <br>\tname VARCHAR, <br>\tis_natural BOOLEAN, <br>\tregion_id INTEGER, <br>\twinery_id INTEGER, <br>\tratings_average FLOAT, <br>\tratings_count INTEGER, <br>\turl VARCHAR, <br>\tacidity FLOAT, <br>\tfizziness FLOAT, <br>\tintensity FLOAT, <br>\tsweetness FLOAT, <br>\ttannin FLOAT, <br>\tuser_structure_count INTEGER, <br>\tPRIMARY KEY (id), <br>\tFOREIGN KEY(region_id) REFERENCES regions (id), <br>\tFOREIGN KEY(winery_id) REFERENCES wineries (id)<br>)</td>\n",
       "        </tr>\n",
       "        <tr>\n",
       "            <td>table</td>\n",
       "            <td>vintages</td>\n",
       "            <td>vintages</td>\n",
       "            <td>13</td>\n",
       "            <td>CREATE TABLE vintages (<br>\tid INTEGER NOT NULL, <br>\tname VARCHAR, <br>\twine_id INTEGER, <br>\tratings_average FLOAT, <br>\tratings_count INTEGER, <br>\tyear INTEGER, <br>\tprice_euros FLOAT, <br>\tprice_discounted_from FLOAT, <br>\tprice_discount_percentage FLOAT, <br>\tbottle_volume_ml INTEGER, <br>\tPRIMARY KEY (id), <br>\tFOREIGN KEY(wine_id) REFERENCES wines (id)<br>)</td>\n",
       "        </tr>\n",
       "        <tr>\n",
       "            <td>table</td>\n",
       "            <td>keywords_wine</td>\n",
       "            <td>keywords_wine</td>\n",
       "            <td>14</td>\n",
       "            <td>CREATE TABLE keywords_wine (<br>\tkeyword_id INTEGER NOT NULL, <br>\twine_id INTEGER NOT NULL, <br>\tgroup_name VARCHAR NOT NULL, <br>\tkeyword_type VARCHAR, <br>\tcount INTEGER, <br>\tPRIMARY KEY (keyword_id, wine_id, group_name), <br>\tFOREIGN KEY(keyword_id) REFERENCES keywords (id), <br>\tFOREIGN KEY(wine_id) REFERENCES wines (id)<br>)</td>\n",
       "        </tr>\n",
       "        <tr>\n",
       "            <td>index</td>\n",
       "            <td>sqlite_autoindex_keywords_wine_1</td>\n",
       "            <td>keywords_wine</td>\n",
       "            <td>15</td>\n",
       "            <td>None</td>\n",
       "        </tr>\n",
       "        <tr>\n",
       "            <td>table</td>\n",
       "            <td>vintage_toplists_rankings</td>\n",
       "            <td>vintage_toplists_rankings</td>\n",
       "            <td>16</td>\n",
       "            <td>CREATE TABLE vintage_toplists_rankings (<br>\tid INTEGER NOT NULL, <br>\ttop_list_id INTEGER, <br>\tvintage_id INTEGER, <br>\trank INTEGER, <br>\tprevious_rank INTEGER, <br>\tPRIMARY KEY (id), <br>\tFOREIGN KEY(top_list_id) REFERENCES toplists (id), <br>\tFOREIGN KEY(vintage_id) REFERENCES vintages (id)<br>)</td>\n",
       "        </tr>\n",
       "    </tbody>\n",
       "</table>"
      ],
      "text/plain": [
       "[('table', 'countries', 'countries', 2, 'CREATE TABLE countries (\\n\\tcode VARCHAR NOT NULL, \\n\\tname VARCHAR, \\n\\tregions_count INTEGER, \\n\\tusers_count INTEGER, \\n\\twines_count INTEGER, \\n\\twineries_count INTEGER, \\n\\tPRIMARY KEY (code)\\n)'),\n",
       " ('index', 'sqlite_autoindex_countries_1', 'countries', 3, None),\n",
       " ('table', 'grapes', 'grapes', 4, 'CREATE TABLE grapes (\\n\\tid INTEGER NOT NULL, \\n\\tname VARCHAR, \\n\\tPRIMARY KEY (id)\\n)'),\n",
       " ('table', 'wineries', 'wineries', 5, 'CREATE TABLE wineries (\\n\\tid INTEGER NOT NULL, \\n\\tname VARCHAR, \\n\\tPRIMARY KEY (id)\\n)'),\n",
       " ('table', 'flavor_groups', 'flavor_groups', 6, 'CREATE TABLE flavor_groups (\\n\\tname VARCHAR NOT NULL, \\n\\tPRIMARY KEY (name)\\n)'),\n",
       " ('index', 'sqlite_autoindex_flavor_groups_1', 'flavor_groups', 7, None),\n",
       " ('table', 'keywords', 'keywords', 8, 'CREATE TABLE keywords (\\n\\tid INTEGER NOT NULL, \\n\\tname VARCHAR, \\n\\tPRIMARY KEY (id)\\n)'),\n",
       " ('table', 'regions', 'regions', 9, 'CREATE TABLE regions (\\n\\tid INTEGER NOT NULL, \\n\\tname VARCHAR, \\n\\tcountry_code VARCHAR, \\n\\tPRIMARY KEY (id), \\n\\tFOREIGN KEY(country_code) REFERENCES countries (code)\\n)'),\n",
       " ('table', 'most_used_grapes_per_country', 'most_used_grapes_per_country', 10, 'CREATE TABLE most_used_grapes_per_country (\\n\\tid INTEGER NOT NULL, \\n\\tcountry_code VARCHAR, \\n\\tgrape_id INTEGER, \\n\\twines_count INTEGER, \\n\\tPRIMARY KEY (id), \\n\\tFOREIGN KEY(country_code) REFERENCES countries (code), \\n\\tFOREIGN KEY(grape_id) REFERENCES grapes (id)\\n)'),\n",
       " ('table', 'toplists', 'toplists', 11, 'CREATE TABLE toplists (\\n\\tid INTEGER NOT NULL, \\n\\tname VARCHAR(255) NOT NULL, \\n\\tcountry_code VARCHAR, \\n\\tPRIMARY KEY (id), \\n\\tFOREIGN KEY(country_code) REFERENCES countries (code)\\n)'),\n",
       " ('table', 'wines', 'wines', 12, 'CREATE TABLE wines (\\n\\tid INTEGER NOT NULL, \\n\\tname VARCHAR, \\n\\tis_natural BOOLEAN, \\n\\tregion_id INTEGER, \\n\\twinery_id INTEGER, \\n\\tratings_aver ... (168 characters truncated) ... cture_count INTEGER, \\n\\tPRIMARY KEY (id), \\n\\tFOREIGN KEY(region_id) REFERENCES regions (id), \\n\\tFOREIGN KEY(winery_id) REFERENCES wineries (id)\\n)'),\n",
       " ('table', 'vintages', 'vintages', 13, 'CREATE TABLE vintages (\\n\\tid INTEGER NOT NULL, \\n\\tname VARCHAR, \\n\\twine_id INTEGER, \\n\\tratings_average FLOAT, \\n\\tratings_count INTEGER, \\n\\tyear ... (55 characters truncated) ... rom FLOAT, \\n\\tprice_discount_percentage FLOAT, \\n\\tbottle_volume_ml INTEGER, \\n\\tPRIMARY KEY (id), \\n\\tFOREIGN KEY(wine_id) REFERENCES wines (id)\\n)'),\n",
       " ('table', 'keywords_wine', 'keywords_wine', 14, 'CREATE TABLE keywords_wine (\\n\\tkeyword_id INTEGER NOT NULL, \\n\\twine_id INTEGER NOT NULL, \\n\\tgroup_name VARCHAR NOT NULL, \\n\\tkeyword_type VARCHAR, ... (25 characters truncated) ... RIMARY KEY (keyword_id, wine_id, group_name), \\n\\tFOREIGN KEY(keyword_id) REFERENCES keywords (id), \\n\\tFOREIGN KEY(wine_id) REFERENCES wines (id)\\n)'),\n",
       " ('index', 'sqlite_autoindex_keywords_wine_1', 'keywords_wine', 15, None),\n",
       " ('table', 'vintage_toplists_rankings', 'vintage_toplists_rankings', 16, 'CREATE TABLE vintage_toplists_rankings (\\n\\tid INTEGER NOT NULL, \\n\\ttop_list_id INTEGER, \\n\\tvintage_id INTEGER, \\n\\trank INTEGER, \\n\\tprevious_rank INTEGER, \\n\\tPRIMARY KEY (id), \\n\\tFOREIGN KEY(top_list_id) REFERENCES toplists (id), \\n\\tFOREIGN KEY(vintage_id) REFERENCES vintages (id)\\n)')]"
      ]
     },
     "execution_count": 16,
     "metadata": {},
     "output_type": "execute_result"
    }
   ],
   "source": [
    "%%sql\n"
   ]
  }
 ],
 "metadata": {
  "kernelspec": {
   "display_name": "Python 3 (ipykernel)",
   "language": "python",
   "name": "python3"
  },
  "language_info": {
   "codemirror_mode": {
    "name": "ipython",
    "version": 3
   },
   "file_extension": ".py",
   "mimetype": "text/x-python",
   "name": "python",
   "nbconvert_exporter": "python",
   "pygments_lexer": "ipython3",
   "version": "3.10.6"
  }
 },
 "nbformat": 4,
 "nbformat_minor": 5
}
